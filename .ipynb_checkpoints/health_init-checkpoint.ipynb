{
 "cells": [
  {
   "cell_type": "code",
   "execution_count": 1,
   "id": "4bc3c2e9",
   "metadata": {},
   "outputs": [],
   "source": [
    "import selenium\n",
    "from selenium import webdriver\n",
    "from selenium.webdriver.common.keys import Keys\n",
    "from selenium.webdriver.common.by import By\n",
    "from selenium.webdriver.chrome.service import Service\n",
    "from webdriver_manager.chrome import ChromeDriverManager\n",
    "\n",
    "from selenium.webdriver.support.ui import WebDriverWait\n",
    "from selenium.webdriver.support import expected_conditions as EC\n",
    "import time\n",
    "\n",
    "from function import log\n",
    "import config\n",
    "\n",
    "\n",
    "import pandas_gbq\n",
    "import google\n",
    "from google.oauth2 import service_account"
   ]
  },
  {
   "cell_type": "code",
   "execution_count": 102,
   "id": "cc62b12a",
   "metadata": {},
   "outputs": [
    {
     "name": "stderr",
     "output_type": "stream",
     "text": [
      "\n",
      "\n",
      "====== WebDriver manager ======\n",
      "Current google-chrome version is 102.0.5005\n",
      "Get LATEST chromedriver version for 102.0.5005 google-chrome\n",
      "Driver [/Users/florianniclause/.wdm/drivers/chromedriver/mac64/102.0.5005.61/chromedriver] found in cache\n"
     ]
    },
    {
     "name": "stdout",
     "output_type": "stream",
     "text": [
      "Signing in to connect.garmin.com\n"
     ]
    },
    {
     "name": "stderr",
     "output_type": "stream",
     "text": [
      "<ipython-input-102-dce7bb299659>:15: DeprecationWarning: find_element_by_* commands are deprecated. Please use find_element() instead\n",
      "  element = driver.find_element_by_id(\"username\")\n",
      "<ipython-input-102-dce7bb299659>:17: DeprecationWarning: find_element_by_* commands are deprecated. Please use find_element() instead\n",
      "  element = driver.find_element_by_id(\"password\")\n"
     ]
    }
   ],
   "source": [
    "# access garmin and authentificate\n",
    "\n",
    "s=Service(ChromeDriverManager().install())\n",
    "\n",
    "driver = webdriver.Chrome(service=s)\n",
    "driver.get(\"https://sso.garmin.com/sso/login?service=https%3A%2F%2Fconnect.garmin.com%2Fpost-auth%2Flogin&webhost=olaxpw-connect04&source=https%3A%2F%2Fconnect.garmin.com%2Fen-US%2Fsignin&redirectAfterAccountLoginUrl=https%3A%2F%2Fconnect.garmin.com%2Fpost-auth%2Flogin&redirectAfterAccountCreationUrl=https%3A%2F%2Fconnect.garmin.com%2Fpost-auth%2Flogin&gauthHost=https%3A%2F%2Fsso.garmin.com%2Fsso&locale=en_US&id=gauth-widget&cssUrl=https%3A%2F%2Fstatic.garmincdn.com%2Fcom.garmin.connect%2Fui%2Fcss%2Fgauth-custom-v1.1-min.css&clientId=GarminConnect&rememberMeShown=true&rememberMeChecked=false&createAccountShown=true&openCreateAccount=false&usernameShown=false&displayNameShown=false&consumeServiceTicket=false&initialFocus=true&embedWidget=false&generateExtraServiceTicket=false#\")\n",
    "\n",
    "#wait until sign-in fields are visible\n",
    "#wait = WebDriverWait(driver, 60)\n",
    "#wait.until(EC.frame_to_be_available_and_switch_to_it((\"id\",\"gauth-widget-frame-gauth-widget\")))\n",
    "#wait.until(EC.presence_of_element_located((\"id\",\"username\")))\n",
    "\n",
    "#write login info to fields, then submit\n",
    "print(\"Signing in to connect.garmin.com\")\n",
    "element = driver.find_element_by_id(\"username\")\n",
    "element.send_keys(config.USER_EMAIL)\n",
    "element = driver.find_element_by_id(\"password\")\n",
    "element.send_keys(config.USER_PASS)\n",
    "element.send_keys(Keys.RETURN)"
   ]
  },
  {
   "cell_type": "code",
   "execution_count": 3,
   "id": "0ba173a9",
   "metadata": {},
   "outputs": [
    {
     "data": {
      "text/html": [
       "<div>\n",
       "<style scoped>\n",
       "    .dataframe tbody tr th:only-of-type {\n",
       "        vertical-align: middle;\n",
       "    }\n",
       "\n",
       "    .dataframe tbody tr th {\n",
       "        vertical-align: top;\n",
       "    }\n",
       "\n",
       "    .dataframe thead th {\n",
       "        text-align: right;\n",
       "    }\n",
       "</style>\n",
       "<table border=\"1\" class=\"dataframe\">\n",
       "  <thead>\n",
       "    <tr style=\"text-align: right;\">\n",
       "      <th></th>\n",
       "      <th>date</th>\n",
       "    </tr>\n",
       "  </thead>\n",
       "  <tbody>\n",
       "    <tr>\n",
       "      <th>0</th>\n",
       "      <td>2022-06-01</td>\n",
       "    </tr>\n",
       "    <tr>\n",
       "      <th>1</th>\n",
       "      <td>2022-06-02</td>\n",
       "    </tr>\n",
       "    <tr>\n",
       "      <th>2</th>\n",
       "      <td>2022-06-03</td>\n",
       "    </tr>\n",
       "    <tr>\n",
       "      <th>3</th>\n",
       "      <td>2022-06-04</td>\n",
       "    </tr>\n",
       "    <tr>\n",
       "      <th>4</th>\n",
       "      <td>2022-06-05</td>\n",
       "    </tr>\n",
       "    <tr>\n",
       "      <th>5</th>\n",
       "      <td>2022-06-06</td>\n",
       "    </tr>\n",
       "    <tr>\n",
       "      <th>6</th>\n",
       "      <td>2022-06-07</td>\n",
       "    </tr>\n",
       "    <tr>\n",
       "      <th>7</th>\n",
       "      <td>2022-06-08</td>\n",
       "    </tr>\n",
       "    <tr>\n",
       "      <th>8</th>\n",
       "      <td>2022-06-09</td>\n",
       "    </tr>\n",
       "    <tr>\n",
       "      <th>9</th>\n",
       "      <td>2022-06-10</td>\n",
       "    </tr>\n",
       "    <tr>\n",
       "      <th>10</th>\n",
       "      <td>2022-06-11</td>\n",
       "    </tr>\n",
       "    <tr>\n",
       "      <th>11</th>\n",
       "      <td>2022-06-12</td>\n",
       "    </tr>\n",
       "    <tr>\n",
       "      <th>12</th>\n",
       "      <td>2022-06-13</td>\n",
       "    </tr>\n",
       "    <tr>\n",
       "      <th>13</th>\n",
       "      <td>2022-06-14</td>\n",
       "    </tr>\n",
       "    <tr>\n",
       "      <th>14</th>\n",
       "      <td>2022-06-15</td>\n",
       "    </tr>\n",
       "    <tr>\n",
       "      <th>15</th>\n",
       "      <td>2022-06-16</td>\n",
       "    </tr>\n",
       "  </tbody>\n",
       "</table>\n",
       "</div>"
      ],
      "text/plain": [
       "         date\n",
       "0  2022-06-01\n",
       "1  2022-06-02\n",
       "2  2022-06-03\n",
       "3  2022-06-04\n",
       "4  2022-06-05\n",
       "5  2022-06-06\n",
       "6  2022-06-07\n",
       "7  2022-06-08\n",
       "8  2022-06-09\n",
       "9  2022-06-10\n",
       "10 2022-06-11\n",
       "11 2022-06-12\n",
       "12 2022-06-13\n",
       "13 2022-06-14\n",
       "14 2022-06-15\n",
       "15 2022-06-16"
      ]
     },
     "execution_count": 3,
     "metadata": {},
     "output_type": "execute_result"
    }
   ],
   "source": [
    "from datetime import datetime\n",
    "\n",
    "datelist = pd.date_range(start='2022-06-01',end=datetime.today().strftime('%Y-%m-%d'))\n",
    "\n",
    "pd_date = pd.DataFrame(datelist,columns=['date'])\n",
    "\n",
    "pd_date"
   ]
  },
  {
   "cell_type": "code",
   "execution_count": 4,
   "id": "d7ba3d13",
   "metadata": {},
   "outputs": [],
   "source": [
    "pd_date['score_sleep']='No data'\n",
    "pd_date['Duree_sommeil']='No data'\n",
    "pd_date['coucher']='No data'\n",
    "pd_date['lever']='No data'\n",
    "pd_date['FC_repos']='No data'\n",
    "pd_date['FC_max_day']='No data'\n",
    "pd_date['stress']='No data'\n",
    "pd_date['training_status']='No data'\n",
    "pd_date['training_comment']='No data'\n",
    "pd_date['VO2_max_run']='No data'\n",
    "pd_date['training_load']='No data'"
   ]
  },
  {
   "cell_type": "code",
   "execution_count": 17,
   "id": "27bf7cd5",
   "metadata": {},
   "outputs": [
    {
     "name": "stderr",
     "output_type": "stream",
     "text": [
      "<ipython-input-17-750456b6d773>:1: DeprecationWarning: find_element_by_xpath is deprecated. Please use find_element(by=By.XPATH, value=xpath) instead\n",
      "  driver.find_element_by_xpath(\"//div[contains(@class, 'TrainingStatus')]\").text.split('\\n')\n"
     ]
    },
    {
     "data": {
      "text/plain": [
       "['Productif',\n",
       " \"Manque de charge d'aérobie élevée\",\n",
       " 'VO2 Max ',\n",
       " '57',\n",
       " 'Charge ',\n",
       " '1,469',\n",
       " 'Altitude ',\n",
       " '0 m',\n",
       " 'Chaleur ',\n",
       " '34%']"
      ]
     },
     "execution_count": 17,
     "metadata": {},
     "output_type": "execute_result"
    }
   ],
   "source": [
    "driver.find_element_by_xpath(\"//div[contains(@class, 'TrainingStatus')]\").text.split('\\n')"
   ]
  },
  {
   "cell_type": "code",
   "execution_count": 20,
   "id": "ed388b04",
   "metadata": {},
   "outputs": [
    {
     "name": "stdout",
     "output_type": "stream",
     "text": [
      "2022-06-01\n"
     ]
    },
    {
     "name": "stderr",
     "output_type": "stream",
     "text": [
      "<ipython-input-20-06d292a80ea0>:6: DeprecationWarning: find_element_by_xpath is deprecated. Please use find_element(by=By.XPATH, value=xpath) instead\n",
      "  print(driver.find_element_by_xpath('//div[contains(@class, \"SleepScoreSummary_sleepScoreNumber\")]').text)\n"
     ]
    },
    {
     "name": "stdout",
     "output_type": "stream",
     "text": [
      "36\n"
     ]
    },
    {
     "name": "stderr",
     "output_type": "stream",
     "text": [
      "<ipython-input-20-06d292a80ea0>:7: DeprecationWarning: find_element_by_xpath is deprecated. Please use find_element(by=By.XPATH, value=xpath) instead\n",
      "  pd_date.at[i,'score_sleep'] = driver.find_element_by_xpath('//div[contains(@class, \"SleepScoreSummary_sleepScoreNumber\")]').text\n",
      "<ipython-input-20-06d292a80ea0>:13: DeprecationWarning: find_element_by_xpath is deprecated. Please use find_element(by=By.XPATH, value=xpath) instead\n",
      "  sleep_hour=driver.find_element_by_xpath(\"//div[contains(@class, 'SleepTimeEditor')]\").text.split('\\n')\n",
      "<ipython-input-20-06d292a80ea0>:19: DeprecationWarning: find_element_by_xpath is deprecated. Please use find_element(by=By.XPATH, value=xpath) instead\n",
      "  duree=driver.find_element_by_xpath(\"//div[contains(@class, 'sleepGaugeContainer')]\").text.replace('h','').replace('m','').split('\\n')[0].split(' ')\n",
      "<ipython-input-20-06d292a80ea0>:26: DeprecationWarning: find_element_by_xpath is deprecated. Please use find_element(by=By.XPATH, value=xpath) instead\n",
      "  hr=driver.find_element_by_xpath(\"//div[contains(@class, 'HeartRateCardMain')]\").text.split('\\n')\n",
      "<ipython-input-20-06d292a80ea0>:32: DeprecationWarning: find_element_by_xpath is deprecated. Please use find_element(by=By.XPATH, value=xpath) instead\n",
      "  pd_date.at[i,'stress']=driver.find_element_by_xpath(\"//div[contains(@class, 'StressCardMain')]\").text.split('\\n')[0]\n",
      "<ipython-input-20-06d292a80ea0>:37: DeprecationWarning: find_element_by_xpath is deprecated. Please use find_element(by=By.XPATH, value=xpath) instead\n",
      "  training_status=driver.find_element_by_xpath(\"//div[contains(@class, 'TrainingStatus')]\").text.split('\\n')\n"
     ]
    },
    {
     "name": "stdout",
     "output_type": "stream",
     "text": [
      "2022-06-02\n",
      "51\n",
      "2022-06-03\n",
      "67\n",
      "2022-06-04\n",
      "49\n",
      "2022-06-05\n",
      "72\n",
      "2022-06-06\n",
      "76\n",
      "2022-06-07\n",
      "53\n",
      "2022-06-08\n",
      "32\n",
      "2022-06-09\n",
      "2022-06-10\n",
      "50\n",
      "2022-06-11\n",
      "60\n",
      "2022-06-12\n",
      "29\n",
      "2022-06-13\n",
      "85\n",
      "2022-06-14\n",
      "2022-06-15\n",
      "38\n",
      "2022-06-16\n"
     ]
    }
   ],
   "source": [
    "for i in range(0,datelist.shape[0]):\n",
    "    driver.get(f\"https://connect.garmin.com/modern/sleep/{datelist[i].strftime('%Y-%m-%d')}/score\")\n",
    "    time.sleep(5)\n",
    "    try :\n",
    "        print(f\"{datelist[i].strftime('%Y-%m-%d')}\")\n",
    "        print(driver.find_element_by_xpath('//div[contains(@class, \"SleepScoreSummary_sleepScoreNumber\")]').text)\n",
    "        pd_date.at[i,'score_sleep'] = driver.find_element_by_xpath('//div[contains(@class, \"SleepScoreSummary_sleepScoreNumber\")]').text\n",
    "    except:\n",
    "        pass\n",
    "    driver.get(f\"https://connect.garmin.com/modern/sleep/{datelist[i].strftime('%Y-%m-%d')}\")\n",
    "    time.sleep(5)\n",
    "    try:\n",
    "        sleep_hour=driver.find_element_by_xpath(\"//div[contains(@class, 'SleepTimeEditor')]\").text.split('\\n')\n",
    "        pd_date.at[i,'coucher']=sleep_hour[0]\n",
    "        pd_date.at[i,'lever']=sleep_hour[2]\n",
    "    except:\n",
    "        pass\n",
    "    try:\n",
    "        duree=driver.find_element_by_xpath(\"//div[contains(@class, 'sleepGaugeContainer')]\").text.replace('h','').replace('m','').split('\\n')[0].split(' ')\n",
    "        pd_date.at[i,'Duree_sommeil']=int(duree[0])*60+int(duree[1])\n",
    "    except:\n",
    "        pass\n",
    "    driver.get(f\"https://connect.garmin.com/modern/daily-summary/{datelist[i].strftime('%Y-%m-%d')}/heartRate\")\n",
    "    time.sleep(10)\n",
    "    try:\n",
    "        hr=driver.find_element_by_xpath(\"//div[contains(@class, 'HeartRateCardMain')]\").text.split('\\n')\n",
    "        pd_date.at[i,'FC_repos']=hr[2].replace(' bpm','')\n",
    "        pd_date.at[i,'FC_max_day']=hr[4].replace(' bpm','')\n",
    "    except:\n",
    "        pass\n",
    "    try:\n",
    "        pd_date.at[i,'stress']=driver.find_element_by_xpath(\"//div[contains(@class, 'StressCardMain')]\").text.split('\\n')[0]\n",
    "    except:\n",
    "\n",
    "        pass\n",
    "    try:\n",
    "        training_status=driver.find_element_by_xpath(\"//div[contains(@class, 'TrainingStatus')]\").text.split('\\n')\n",
    "        pd_date.at[i,'training_status']=training_status[0]\n",
    "        pd_date.at[i,'training_comment']=training_status[1]\n",
    "        pd_date.at[i,'VO2_max_run']=training_status[3]\n",
    "        pd_date.at[i,'training_load']=training_status[5]\n",
    "    except:\n",
    "        pass\n",
    "    pd_date.to_csv('health.csv', index=False)\n",
    "\n"
   ]
  },
  {
   "cell_type": "code",
   "execution_count": null,
   "id": "2c53eb7c",
   "metadata": {},
   "outputs": [],
   "source": [
    "pd_date"
   ]
  },
  {
   "cell_type": "code",
   "execution_count": null,
   "id": "05cff1e9",
   "metadata": {},
   "outputs": [],
   "source": [
    "pd_date.to_csv('health.csv', index=False)"
   ]
  }
 ],
 "metadata": {
  "kernelspec": {
   "display_name": "Python 3",
   "language": "python",
   "name": "python3"
  },
  "language_info": {
   "codemirror_mode": {
    "name": "ipython",
    "version": 3
   },
   "file_extension": ".py",
   "mimetype": "text/x-python",
   "name": "python",
   "nbconvert_exporter": "python",
   "pygments_lexer": "ipython3",
   "version": "3.8.6"
  },
  "toc": {
   "base_numbering": 1,
   "nav_menu": {},
   "number_sections": true,
   "sideBar": true,
   "skip_h1_title": false,
   "title_cell": "Table of Contents",
   "title_sidebar": "Contents",
   "toc_cell": false,
   "toc_position": {},
   "toc_section_display": true,
   "toc_window_display": false
  }
 },
 "nbformat": 4,
 "nbformat_minor": 5
}
