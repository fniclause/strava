{
 "cells": [
  {
   "cell_type": "code",
   "execution_count": 6,
   "id": "f1cdf994",
   "metadata": {},
   "outputs": [],
   "source": [
    "import requests\n",
    "import json\n",
    "import pandas as pd\n",
    "import keys"
   ]
  },
  {
   "cell_type": "code",
   "execution_count": null,
   "id": "a49f46e6",
   "metadata": {},
   "outputs": [],
   "source": [
    "query = \"\"\"ContributionsView($username: String!, $from: DateTime!, $to: DateTime!) {\n",
    "  user(login: $username) {\n",
    "    contributionsCollection(from: $from, to: $to) {\n",
    "      totalCommitContributions\n",
    "      totalIssueContributions\n",
    "      totalPullRequestContributions\n",
    "      totalPullRequestReviewContributions\n",
    "    }\n",
    "  }\n",
    "}\"\"\""
   ]
  },
  {
   "cell_type": "code",
   "execution_count": 10,
   "id": "fe9a8ad6",
   "metadata": {},
   "outputs": [
    {
     "name": "stdout",
     "output_type": "stream",
     "text": [
      "{\"errors\":[{\"message\":\"Parse error on \\\"(\\\" (LPAREN) at [1, 12]\",\"locations\":[{\"line\":1,\"column\":12}]}]}\n"
     ]
    }
   ],
   "source": [
    "import requests\n",
    "\n",
    "url = 'https://api.github.com/graphql'\n",
    "json = { 'query' : '{ GitHubContributionsCollection { { GitHubContributionCalendar edges { node { name } } } } }' }\n",
    "api_token = keys.github_token\n",
    "headers = {'Authorization': 'token %s' % api_token}\n",
    "\n",
    "r = requests.post(url=url, json=json, headers=headers)\n",
    "print (r.text)"
   ]
  },
  {
   "cell_type": "code",
   "execution_count": 4,
   "id": "318da249",
   "metadata": {},
   "outputs": [
    {
     "name": "stdout",
     "output_type": "stream",
     "text": [
      "{'login': 'fniclause', 'id': 75161238, 'node_id': 'MDQ6VXNlcjc1MTYxMjM4', 'avatar_url': 'https://avatars.githubusercontent.com/u/75161238?v=4', 'gravatar_id': '', 'url': 'https://api.github.com/users/fniclause', 'html_url': 'https://github.com/fniclause', 'followers_url': 'https://api.github.com/users/fniclause/followers', 'following_url': 'https://api.github.com/users/fniclause/following{/other_user}', 'gists_url': 'https://api.github.com/users/fniclause/gists{/gist_id}', 'starred_url': 'https://api.github.com/users/fniclause/starred{/owner}{/repo}', 'subscriptions_url': 'https://api.github.com/users/fniclause/subscriptions', 'organizations_url': 'https://api.github.com/users/fniclause/orgs', 'repos_url': 'https://api.github.com/users/fniclause/repos', 'events_url': 'https://api.github.com/users/fniclause/events{/privacy}', 'received_events_url': 'https://api.github.com/users/fniclause/received_events', 'type': 'User', 'site_admin': False, 'name': None, 'company': None, 'blog': '', 'location': None, 'email': None, 'hireable': None, 'bio': None, 'twitter_username': None, 'public_repos': 3, 'public_gists': 3, 'followers': 3, 'following': 4, 'created_at': '2020-11-28T09:11:20Z', 'updated_at': '2022-06-27T03:17:13Z'}\n"
     ]
    }
   ],
   "source": [
    "# github username\n",
    "username = \"fniclause\"\n",
    "# url to request\n",
    "url = f\"https://api.github.com/users/{username}\"\n",
    "# make the request and return the json\n",
    "user_data = requests.get(url).json()\n",
    "# pretty print JSON data\n",
    "print(user_data)"
   ]
  },
  {
   "cell_type": "code",
   "execution_count": null,
   "id": "9426416e",
   "metadata": {},
   "outputs": [],
   "source": []
  }
 ],
 "metadata": {
  "kernelspec": {
   "display_name": "Python 3",
   "language": "python",
   "name": "python3"
  },
  "language_info": {
   "codemirror_mode": {
    "name": "ipython",
    "version": 3
   },
   "file_extension": ".py",
   "mimetype": "text/x-python",
   "name": "python",
   "nbconvert_exporter": "python",
   "pygments_lexer": "ipython3",
   "version": "3.8.6"
  },
  "toc": {
   "base_numbering": 1,
   "nav_menu": {},
   "number_sections": true,
   "sideBar": true,
   "skip_h1_title": false,
   "title_cell": "Table of Contents",
   "title_sidebar": "Contents",
   "toc_cell": false,
   "toc_position": {},
   "toc_section_display": true,
   "toc_window_display": false
  }
 },
 "nbformat": 4,
 "nbformat_minor": 5
}
